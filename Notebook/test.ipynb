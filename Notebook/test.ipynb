{
 "cells": [
  {
   "cell_type": "code",
   "execution_count": 1,
   "metadata": {
    "collapsed": false
   },
   "outputs": [
    {
     "name": "stdout",
     "output_type": "stream",
     "text": [
      "[['1' '0' '3' ..., '7.25' '' 'S']\n",
      " ['2' '1' '1' ..., '71.2833' 'C85' 'C']\n",
      " ['3' '1' '3' ..., '7.925' '' 'S']\n",
      " ..., \n",
      " ['889' '0' '3' ..., '23.45' '' 'S']\n",
      " ['890' '1' '1' ..., '30' 'C148' 'C']\n",
      " ['891' '0' '3' ..., '7.75' '' 'Q']]\n"
     ]
    }
   ],
   "source": [
    "import numpy as np\n",
    "import csv\n",
    "from Scripts.getdata import data,header"
   ]
  },
  {
   "cell_type": "code",
   "execution_count": 2,
   "metadata": {
    "collapsed": false
   },
   "outputs": [
    {
     "name": "stdout",
     "output_type": "stream",
     "text": [
      "['1' '0' '3' 'Braund, Mr. Owen Harris' 'male' '22' '1' '0' 'A/5 21171'\n",
      " '7.25' '' 'S']\n",
      "['891' '0' '3' 'Dooley, Mr. Patrick' 'male' '32' '0' '0' '370376' '7.75' ''\n",
      " 'Q']\n",
      "['PassengerId', 'Survived', 'Pclass', 'Name', 'Sex', 'Age', 'SibSp', 'Parch', 'Ticket', 'Fare', 'Cabin', 'Embarked']\n"
     ]
    }
   ],
   "source": [
    "print data[0]\n",
    "print data[-1]\n",
    "print header"
   ]
  },
  {
   "cell_type": "code",
   "execution_count": 3,
   "metadata": {
    "collapsed": false
   },
   "outputs": [
    {
     "name": "stdout",
     "output_type": "stream",
     "text": [
      "<type 'numpy.ndarray'>\n",
      "['3' '1' '3' '1' '3' '3' '1' '3' '3' '2' '3' '1' '3' '3' '3' '2' '3' '2'\n",
      " '3' '3' '2' '2' '3' '1' '3' '3' '3' '1' '3' '3' '1' '1' '3' '2' '1' '1'\n",
      " '3' '3' '3' '3' '3' '2' '3' '2' '3' '3' '3' '3' '3' '3' '3' '3' '1' '2'\n",
      " '1' '1' '2' '3' '2' '3' '3' '1' '1' '3' '1' '3' '2' '3' '3' '3' '2' '3'\n",
      " '2' '3' '3' '3' '3' '3' '2' '3' '3' '3' '3' '1' '2' '3' '3' '3' '1' '3'\n",
      " '3' '3' '1' '3' '3' '3' '1' '1' '2' '2' '3' '3' '1' '3' '3' '3' '3' '3'\n",
      " '3' '3' '1' '3' '3' '3' '3' '3' '3' '2' '1' '3' '2' '3' '2' '2' '1' '3'\n",
      " '3' '3' '3' '3' '3' '3' '3' '2' '2' '2' '1' '1' '3' '1' '3' '3' '3' '3'\n",
      " '2' '2' '3' '3' '2' '2' '2' '1' '3' '3' '3' '1' '3' '3' '3' '3' '3' '2'\n",
      " '3' '3' '3' '3' '1' '3' '1' '3' '1' '3' '3' '3' '1' '3' '3' '1' '2' '3'\n",
      " '3' '2' '3' '2' '3' '1' '3' '1' '3' '3' '2' '2' '3' '2' '1' '1' '3' '3'\n",
      " '3' '2' '3' '3' '3' '3' '3' '3' '3' '3' '3' '1' '3' '2' '3' '2' '3' '1'\n",
      " '3' '2' '1' '2' '3' '2' '3' '3' '1' '3' '2' '3' '2' '3' '1' '3' '2' '3'\n",
      " '2' '3' '2' '2' '2' '2' '3' '3' '2' '3' '3' '1' '3' '2' '1' '2' '3' '3'\n",
      " '1' '3' '3' '3' '1' '1' '1' '2' '3' '3' '1' '1' '3' '2' '3' '3' '1' '1'\n",
      " '1' '3' '2' '1' '3' '1' '3' '2' '3' '3' '3' '3' '3' '3' '1' '3' '3' '3'\n",
      " '2' '3' '1' '1' '2' '3' '3' '1' '3' '1' '1' '1' '3' '3' '3' '2' '3' '1'\n",
      " '1' '1' '2' '1' '1' '1' '2' '3' '2' '3' '2' '2' '1' '1' '3' '3' '2' '2'\n",
      " '3' '1' '3' '2' '3' '1' '3' '1' '1' '3' '1' '3' '1' '1' '3' '1' '2' '1'\n",
      " '2' '2' '2' '2' '2' '3' '3' '3' '3' '1' '3' '3' '3' '3' '1' '2' '3' '3'\n",
      " '3' '2' '3' '3' '3' '3' '1' '3' '3' '1' '1' '3' '3' '1' '3' '1' '3' '1'\n",
      " '3' '3' '1' '3' '3' '1' '3' '2' '3' '2' '3' '2' '1' '3' '3' '1' '3' '3'\n",
      " '3' '2' '2' '2' '3' '3' '3' '3' '3' '2' '3' '2' '3' '3' '3' '3' '1' '2'\n",
      " '3' '3' '2' '2' '2' '3' '3' '3' '3' '3' '3' '3' '2' '2' '3' '3' '1' '3'\n",
      " '2' '3' '1' '1' '3' '2' '1' '2' '2' '3' '3' '2' '3' '1' '2' '1' '3' '1'\n",
      " '2' '3' '1' '1' '3' '3' '1' '1' '2' '3' '1' '3' '1' '2' '3' '3' '2' '1'\n",
      " '3' '3' '3' '3' '2' '2' '3' '1' '2' '3' '3' '3' '3' '2' '3' '3' '1' '3'\n",
      " '1' '1' '3' '3' '3' '3' '1' '1' '3' '3' '1' '3' '1' '3' '3' '3' '3' '3'\n",
      " '1' '1' '2' '1' '3' '3' '3' '3' '1' '1' '3' '1' '2' '3' '2' '3' '1' '3'\n",
      " '3' '1' '3' '3' '2' '1' '3' '2' '2' '3' '3' '3' '3' '2' '1' '1' '3' '1'\n",
      " '1' '3' '3' '2' '1' '1' '2' '2' '3' '2' '1' '2' '3' '3' '3' '1' '1' '1'\n",
      " '1' '3' '3' '3' '2' '3' '3' '3' '3' '3' '3' '3' '2' '1' '1' '3' '3' '3'\n",
      " '2' '1' '3' '3' '2' '1' '2' '1' '3' '1' '2' '1' '3' '3' '3' '1' '3' '3'\n",
      " '2' '3' '2' '3' '3' '1' '2' '3' '1' '3' '1' '3' '3' '1' '2' '1' '3' '3'\n",
      " '3' '3' '3' '2' '3' '3' '2' '2' '3' '1' '3' '3' '3' '1' '2' '1' '3' '3'\n",
      " '1' '3' '1' '1' '3' '2' '3' '2' '3' '3' '3' '1' '3' '3' '3' '1' '3' '1'\n",
      " '3' '3' '3' '2' '3' '3' '3' '2' '3' '3' '2' '1' '1' '3' '1' '3' '3' '2'\n",
      " '2' '3' '3' '1' '2' '1' '2' '2' '2' '3' '3' '3' '3' '1' '3' '1' '3' '3'\n",
      " '2' '2' '3' '3' '3' '1' '1' '3' '3' '3' '1' '2' '3' '3' '1' '3' '1' '1'\n",
      " '3' '3' '3' '2' '2' '1' '1' '3' '1' '1' '1' '3' '2' '3' '1' '2' '3' '3'\n",
      " '2' '3' '2' '2' '1' '3' '2' '3' '2' '3' '1' '3' '2' '2' '2' '3' '3' '1'\n",
      " '3' '3' '1' '1' '1' '3' '3' '1' '3' '2' '1' '3' '2' '3' '3' '3' '2' '2'\n",
      " '3' '2' '3' '1' '3' '3' '3' '1' '3' '1' '1' '3' '3' '3' '3' '3' '2' '3'\n",
      " '2' '3' '3' '3' '3' '1' '3' '1' '1' '3' '3' '3' '3' '3' '3' '1' '3' '2'\n",
      " '3' '1' '3' '2' '1' '3' '3' '3' '2' '2' '1' '3' '3' '3' '1' '3' '2' '1'\n",
      " '3' '3' '2' '3' '3' '1' '3' '2' '3' '3' '1' '3' '1' '3' '3' '3' '3' '2'\n",
      " '3' '1' '3' '2' '3' '3' '3' '1' '3' '3' '3' '1' '3' '2' '1' '3' '3' '3'\n",
      " '3' '3' '2' '1' '3' '3' '3' '1' '2' '3' '1' '1' '3' '3' '3' '2' '1' '3'\n",
      " '2' '2' '2' '1' '3' '3' '3' '1' '1' '3' '2' '3' '3' '3' '3' '1' '2' '3'\n",
      " '3' '2' '3' '3' '2' '1' '3' '1' '3']\n"
     ]
    }
   ],
   "source": [
    "#print data[0::,2].astype(np.float)\n",
    "print type(data[0::,2]) \n",
    "print data[0::,2]"
   ]
  },
  {
   "cell_type": "code",
   "execution_count": 4,
   "metadata": {
    "collapsed": false
   },
   "outputs": [
    {
     "name": "stdout",
     "output_type": "stream",
     "text": [
      "891\n",
      "342\n"
     ]
    }
   ],
   "source": [
    "num_passengers=np.size(data[0::,1].astype(np.float))\n",
    "print num_passengers\n",
    "bool_idx = data[0::,1].astype(np.float)>0\n",
    "#print bool_idx\n",
    "num_survivors=np.size(data[0::,1][bool_idx])\n",
    "print num_survivors"
   ]
  },
  {
   "cell_type": "code",
   "execution_count": 5,
   "metadata": {
    "collapsed": false
   },
   "outputs": [],
   "source": [
    "proportion_survivors = num_survivors/num_passengers"
   ]
  },
  {
   "cell_type": "code",
   "execution_count": 6,
   "metadata": {
    "collapsed": true
   },
   "outputs": [],
   "source": [
    "women_rows = data[:,4] == \"female\"\n",
    "men_rows = data[:,4] != \"female\""
   ]
  },
  {
   "cell_type": "code",
   "execution_count": 7,
   "metadata": {
    "collapsed": false
   },
   "outputs": [
    {
     "name": "stdout",
     "output_type": "stream",
     "text": [
      "0.742038216561\n",
      "0.188908145581\n"
     ]
    }
   ],
   "source": [
    "proportion_women_survived = np.sum(data[women_rows,1].astype(float))/np.size(data[women_rows,1])\n",
    "proportion_men_survived = np.sum(data[men_rows,1].astype(float))/np.size(data[men_rows,1])\n",
    "\n",
    "print proportion_women_survived\n",
    "print proportion_men_survived"
   ]
  },
  {
   "cell_type": "code",
   "execution_count": 8,
   "metadata": {
    "collapsed": false
   },
   "outputs": [
    {
     "name": "stdout",
     "output_type": "stream",
     "text": [
      "[['892' '3' 'Kelly, Mr. James' ..., '7.8292' '' 'Q']\n",
      " ['893' '3' 'Wilkes, Mrs. James (Ellen Needs)' ..., '7' '' 'S']\n",
      " ['894' '2' 'Myles, Mr. Thomas Francis' ..., '9.6875' '' 'Q']\n",
      " ..., \n",
      " ['1307' '3' 'Saether, Mr. Simon Sivertsen' ..., '7.25' '' 'S']\n",
      " ['1308' '3' 'Ware, Mr. Frederick' ..., '8.05' '' 'S']\n",
      " ['1309' '3' 'Peter, Master. Michael J' ..., '22.3583' '' 'C']]\n"
     ]
    }
   ],
   "source": [
    "testfile = open(\"../csv/test.csv\",\"rb\")\n",
    "test_file_object = csv.reader(testfile)\n",
    "header_test = test_file_object.next()\n",
    "\n",
    "data_test = list(test_file_object)\n",
    "data_test = np.array(data_test)\n",
    "\n",
    "print data_test"
   ]
  },
  {
   "cell_type": "code",
   "execution_count": 9,
   "metadata": {
    "collapsed": false
   },
   "outputs": [
    {
     "name": "stdout",
     "output_type": "stream",
     "text": [
      "['PassengerId', 'Pclass', 'Name', 'Sex', 'Age', 'SibSp', 'Parch', 'Ticket', 'Fare', 'Cabin', 'Embarked']\n"
     ]
    }
   ],
   "source": [
    "outputfile = open(\"../Predictions/genderbasedmodel.csv\",\"wb\")\n",
    "output_file_object = csv.writer(outputfile)\n",
    "\n",
    "print header_test"
   ]
  },
  {
   "cell_type": "code",
   "execution_count": 10,
   "metadata": {
    "collapsed": true
   },
   "outputs": [],
   "source": [
    "output_file_object.writerow([\"PassengerId\",\"Survived\"])\n",
    "for row in data_test:\n",
    "    if(row[3]==\"female\"):\n",
    "        output_file_object.writerow([row[0],1])\n",
    "    else:\n",
    "        output_file_object.writerow([row[0],0])"
   ]
  },
  {
   "cell_type": "code",
   "execution_count": 11,
   "metadata": {
    "collapsed": false
   },
   "outputs": [],
   "source": [
    "testfile.close()\n",
    "outputfile.close()\n"
   ]
  },
  {
   "cell_type": "code",
   "execution_count": 33,
   "metadata": {
    "collapsed": false
   },
   "outputs": [],
   "source": [
    "# Add Ceiling\n",
    "\n",
    "fare_ceiling = 40\n",
    "data[ data[:,9].astype(np.float)> fare_ceiling, 9 ] = fare_ceiling -1\n",
    "#print data[:,9]"
   ]
  },
  {
   "cell_type": "code",
   "execution_count": 13,
   "metadata": {
    "collapsed": false
   },
   "outputs": [
    {
     "name": "stdout",
     "output_type": "stream",
     "text": [
      "4\n"
     ]
    }
   ],
   "source": [
    "fare_bracket = 10\n",
    "num_brackets = fare_ceiling/fare_bracket\n",
    "print num_brackets"
   ]
  },
  {
   "cell_type": "code",
   "execution_count": 14,
   "metadata": {
    "collapsed": false
   },
   "outputs": [
    {
     "name": "stdout",
     "output_type": "stream",
     "text": [
      "3\n",
      "2\n"
     ]
    }
   ],
   "source": [
    "#num_classes = 3\n",
    "num_classes =  len(np.unique(data[:,2]))\n",
    "print num_classes\n",
    "\n",
    "num_genders = len(np.unique(data[:,4]))\n",
    "print num_genders"
   ]
  },
  {
   "cell_type": "code",
   "execution_count": 15,
   "metadata": {
    "collapsed": false
   },
   "outputs": [
    {
     "name": "stdout",
     "output_type": "stream",
     "text": [
      "[[[ 0.  0.  0.  0.]\n",
      "  [ 0.  0.  0.  0.]\n",
      "  [ 0.  0.  0.  0.]]\n",
      "\n",
      " [[ 0.  0.  0.  0.]\n",
      "  [ 0.  0.  0.  0.]\n",
      "  [ 0.  0.  0.  0.]]]\n"
     ]
    }
   ],
   "source": [
    "survival_table = np.zeros((num_genders,num_classes,num_brackets))\n",
    "print survival_table"
   ]
  },
  {
   "cell_type": "code",
   "execution_count": 30,
   "metadata": {
    "collapsed": false
   },
   "outputs": [
    {
     "name": "stdout",
     "output_type": "stream",
     "text": [
      "[[[ 0.          0.          0.83333333  0.97727273]\n",
      "  [ 0.          0.91428571  0.9         1.        ]\n",
      "  [ 0.59375     0.58139535  0.33333333  0.125     ]]\n",
      "\n",
      " [[ 0.          0.          0.4         0.38372093]\n",
      "  [ 0.          0.15873016  0.16        0.21428571]\n",
      "  [ 0.11153846  0.23684211  0.125       0.24      ]]]\n"
     ]
    }
   ],
   "source": [
    "for i in xrange(num_classes):\n",
    "    for j in xrange(num_brackets):\n",
    "        \n",
    "        bool_idx_w = (data[:,4] == \"female\") &\\\n",
    "        (data[:,2].astype(np.float)==i+1) &\\\n",
    "        (data[:,9].astype(np.float)>=j*fare_bracket) &\\\n",
    "        (data[:,9].astype(np.float)<(j+1)*fare_bracket)\n",
    "                \n",
    "        bool_idx_m = (data[:,4] == \"male\") &\\\n",
    "        (data[:,2].astype(np.float)==i+1) &\\\n",
    "        (data[0::,9].astype(np.float)>=j*fare_bracket) &\\\n",
    "        (data[0::,9].astype(np.float)<(j+1)*fare_bracket)\n",
    "                \n",
    "        survival_table[0,i,j] = np.mean(data[bool_idx_w,1].astype(np.float))\n",
    "        survival_table[1,i,j] = np.mean(data[bool_idx_m,1].astype(np.float))\n",
    "        \n",
    "survival_table[survival_table!=survival_table] = 0\n",
    "print survival_table"
   ]
  },
  {
   "cell_type": "code",
   "execution_count": 32,
   "metadata": {
    "collapsed": false
   },
   "outputs": [
    {
     "name": "stdout",
     "output_type": "stream",
     "text": [
      "[[[ 0.  0.  1.  1.]\n",
      "  [ 0.  1.  1.  1.]\n",
      "  [ 1.  1.  0.  0.]]\n",
      "\n",
      " [[ 0.  0.  0.  0.]\n",
      "  [ 0.  0.  0.  0.]\n",
      "  [ 0.  0.  0.  0.]]]\n"
     ]
    }
   ],
   "source": [
    "survival_table[survival_table>=0.5]=1\n",
    "survival_table[survival_table<0.5]=0\n",
    "print survival_table"
   ]
  },
  {
   "cell_type": "code",
   "execution_count": 38,
   "metadata": {
    "collapsed": false
   },
   "outputs": [],
   "source": [
    "\"\"\"\n",
    "testfile = open(\"../csv/test.csv\",\"rb\")\n",
    "test_file_object = csv.reader(testfile)\n",
    "header_test = test_file_object.next()\n",
    "\n",
    "data_test = list(test_file_object)\n",
    "data_test = np.array(data_test)\n",
    "\n",
    "print data_test\n",
    "\"\"\"\n",
    "\n",
    "outputfile = open(\"../Predictions/genderclassmodel.csv\",\"wb\")\n",
    "output_file_object = csv.writer(outputfile)\n",
    "\n",
    "output_file_object.writerow([\"PassengerId\",\"Survived\"])\n",
    "\n",
    "for row in data_test:\n",
    "    \n",
    "    fare_bin = -1\n",
    "        \n",
    "    try:\n",
    "        row[8] = float(row[8])\n",
    "    except:\n",
    "        fare_bin = 3 - float(row[1])\n",
    "        \n",
    "    if(row[8]>=fare_ceiling):\n",
    "        fare_bin = 3\n",
    "    \n",
    "    if(fare_bin==-1):\n",
    "        for j in num_brackets:\n",
    "            if(row[8]>=j*num_brackets & row[8]<(j+1)*num_brackets):\n",
    "                fare_bin = j\n",
    "                break\n",
    "                \n",
    "    if(row[3]==\"female\"):\n",
    "        output_file_object.writerow([row[0],int(survival_table[0,int(row[1])-1,fare_bin])])\n",
    "    else:\n",
    "        output_file_object.writerow([row[0],int(survival_table[1,int(row[1])-1,fare_bin])])\n",
    "        "
   ]
  },
  {
   "cell_type": "code",
   "execution_count": null,
   "metadata": {
    "collapsed": true
   },
   "outputs": [],
   "source": []
  }
 ],
 "metadata": {
  "kernelspec": {
   "display_name": "Python 2",
   "language": "python",
   "name": "python2"
  },
  "language_info": {
   "codemirror_mode": {
    "name": "ipython",
    "version": 2
   },
   "file_extension": ".py",
   "mimetype": "text/x-python",
   "name": "python",
   "nbconvert_exporter": "python",
   "pygments_lexer": "ipython2",
   "version": "2.7.11"
  }
 },
 "nbformat": 4,
 "nbformat_minor": 0
}
